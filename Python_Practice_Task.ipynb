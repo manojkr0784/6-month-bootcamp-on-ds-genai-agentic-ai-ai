{
 "cells": [
  {
   "cell_type": "markdown",
   "id": "2b561c53-4212-4b87-8ba6-8bc5277ffc2e",
   "metadata": {},
   "source": [
    "# Welcome To Course\n",
    "\n"
   ]
  },
  {
   "cell_type": "code",
   "execution_count": 1,
   "id": "81cbec0d-f1f2-45a1-9d06-c199a0499f4d",
   "metadata": {},
   "outputs": [
    {
     "data": {
      "text/plain": [
       "4"
      ]
     },
     "execution_count": 1,
     "metadata": {},
     "output_type": "execute_result"
    }
   ],
   "source": [
    "8-4"
   ]
  },
  {
   "cell_type": "code",
   "execution_count": 2,
   "id": "c4f0c001-ada7-4dd7-a1f1-c27144f2b166",
   "metadata": {},
   "outputs": [
    {
     "data": {
      "text/plain": [
       "12"
      ]
     },
     "execution_count": 2,
     "metadata": {},
     "output_type": "execute_result"
    }
   ],
   "source": [
    "8+4"
   ]
  },
  {
   "cell_type": "code",
   "execution_count": 3,
   "id": "36a99e53-44f1-496d-9972-a5db05a7d41c",
   "metadata": {},
   "outputs": [
    {
     "data": {
      "text/plain": [
       "2.0"
      ]
     },
     "execution_count": 3,
     "metadata": {},
     "output_type": "execute_result"
    }
   ],
   "source": [
    "8/4"
   ]
  },
  {
   "cell_type": "code",
   "execution_count": 4,
   "id": "a469ea18-7502-4de8-9891-de691af22e02",
   "metadata": {},
   "outputs": [
    {
     "data": {
      "text/plain": [
       "2"
      ]
     },
     "execution_count": 4,
     "metadata": {},
     "output_type": "execute_result"
    }
   ],
   "source": [
    "8//4"
   ]
  },
  {
   "cell_type": "code",
   "execution_count": 36,
   "id": "c6b08ad1-88f1-4efb-b976-ff98628bcb91",
   "metadata": {},
   "outputs": [
    {
     "data": {
      "text/plain": [
       "4"
      ]
     },
     "execution_count": 36,
     "metadata": {},
     "output_type": "execute_result"
    }
   ],
   "source": [
    "a=2\n",
    "b=4\n",
    "a*2"
   ]
  },
  {
   "cell_type": "code",
   "execution_count": 39,
   "id": "0d6428c0-2128-48db-9d60-f59864be8779",
   "metadata": {},
   "outputs": [
    {
     "data": {
      "text/plain": [
       "9"
      ]
     },
     "execution_count": 39,
     "metadata": {},
     "output_type": "execute_result"
    }
   ],
   "source": [
    "a=3\n",
    "b=2\n",
    "a**b"
   ]
  },
  {
   "cell_type": "markdown",
   "id": "de02898e-cd78-4a55-a743-26d8d131b223",
   "metadata": {},
   "source": [
    "# TEXT(String)"
   ]
  },
  {
   "cell_type": "code",
   "execution_count": 6,
   "id": "5d38e7c2-e13f-4a88-9b7c-5983d9a9e76b",
   "metadata": {},
   "outputs": [
    {
     "data": {
      "text/plain": [
       "'Welcome to 7pm batch'"
      ]
     },
     "execution_count": 6,
     "metadata": {},
     "output_type": "execute_result"
    }
   ],
   "source": [
    "\"Welcome to 7pm batch\""
   ]
  },
  {
   "cell_type": "code",
   "execution_count": 7,
   "id": "e5d1638e-6a99-441b-9fbd-12351473331b",
   "metadata": {},
   "outputs": [
    {
     "data": {
      "text/plain": [
       "'Welcome to 7pm batch'"
      ]
     },
     "execution_count": 7,
     "metadata": {},
     "output_type": "execute_result"
    }
   ],
   "source": [
    "'Welcome to 7pm batch'"
   ]
  },
  {
   "cell_type": "code",
   "execution_count": 10,
   "id": "bccf6a90-f5ba-49c2-9176-cef3c23c2bfd",
   "metadata": {},
   "outputs": [
    {
     "data": {
      "text/plain": [
       "'Welcome \\nto DS\\nbatch'"
      ]
     },
     "execution_count": 10,
     "metadata": {},
     "output_type": "execute_result"
    }
   ],
   "source": [
    "'''Welcome \n",
    "to DS\n",
    "batch'''"
   ]
  },
  {
   "cell_type": "markdown",
   "id": "bb9215bf-1434-4f50-9b15-22ed686f4f52",
   "metadata": {},
   "source": [
    "# Python Variable\n",
    "\n"
   ]
  },
  {
   "cell_type": "code",
   "execution_count": 14,
   "id": "d154c00f-7c8f-4c21-8037-09e9b7ab82ff",
   "metadata": {},
   "outputs": [
    {
     "data": {
      "text/plain": [
       "5"
      ]
     },
     "execution_count": 14,
     "metadata": {},
     "output_type": "execute_result"
    }
   ],
   "source": [
    "a=5\n",
    "a"
   ]
  },
  {
   "cell_type": "code",
   "execution_count": 15,
   "id": "60d44e93-6293-45da-97bd-34fc48961480",
   "metadata": {},
   "outputs": [
    {
     "data": {
      "text/plain": [
       "140736956183592"
      ]
     },
     "execution_count": 15,
     "metadata": {},
     "output_type": "execute_result"
    }
   ],
   "source": [
    "id(a)"
   ]
  },
  {
   "cell_type": "code",
   "execution_count": 17,
   "id": "3f9d35c2-bd9a-47f9-ac02-b8d220247b0b",
   "metadata": {},
   "outputs": [
    {
     "data": {
      "text/plain": [
       "6"
      ]
     },
     "execution_count": 17,
     "metadata": {},
     "output_type": "execute_result"
    }
   ],
   "source": [
    "a5=6\n",
    "a5"
   ]
  },
  {
   "cell_type": "code",
   "execution_count": 19,
   "id": "9dde8df5-2665-44be-8281-97683461ba00",
   "metadata": {},
   "outputs": [],
   "source": [
    "score1, score2= 100, 200 "
   ]
  },
  {
   "cell_type": "code",
   "execution_count": 22,
   "id": "84999544-cf42-48ba-be77-31c02f2467d8",
   "metadata": {},
   "outputs": [
    {
     "data": {
      "text/plain": [
       "200"
      ]
     },
     "execution_count": 22,
     "metadata": {},
     "output_type": "execute_result"
    }
   ],
   "source": [
    "score1\n",
    "score2"
   ]
  },
  {
   "cell_type": "code",
   "execution_count": 25,
   "id": "52cc9c88-07ad-4654-9e9a-c61e29837cee",
   "metadata": {},
   "outputs": [
    {
     "name": "stdout",
     "output_type": "stream",
     "text": [
      "100\n",
      "200\n"
     ]
    }
   ],
   "source": [
    "print(score1) \n",
    "print(score2)"
   ]
  },
  {
   "cell_type": "code",
   "execution_count": 29,
   "id": "5248bb53-7367-4f14-a6df-074ab7f6cc20",
   "metadata": {},
   "outputs": [
    {
     "data": {
      "text/plain": [
       "5"
      ]
     },
     "execution_count": 29,
     "metadata": {},
     "output_type": "execute_result"
    }
   ],
   "source": [
    "var_=5\n",
    "var_"
   ]
  },
  {
   "cell_type": "code",
   "execution_count": 31,
   "id": "66d4ba0b-f0e6-44cb-9f4b-6a05b3ce7919",
   "metadata": {},
   "outputs": [
    {
     "data": {
      "text/plain": [
       "['False',\n",
       " 'None',\n",
       " 'True',\n",
       " 'and',\n",
       " 'as',\n",
       " 'assert',\n",
       " 'async',\n",
       " 'await',\n",
       " 'break',\n",
       " 'class',\n",
       " 'continue',\n",
       " 'def',\n",
       " 'del',\n",
       " 'elif',\n",
       " 'else',\n",
       " 'except',\n",
       " 'finally',\n",
       " 'for',\n",
       " 'from',\n",
       " 'global',\n",
       " 'if',\n",
       " 'import',\n",
       " 'in',\n",
       " 'is',\n",
       " 'lambda',\n",
       " 'nonlocal',\n",
       " 'not',\n",
       " 'or',\n",
       " 'pass',\n",
       " 'raise',\n",
       " 'return',\n",
       " 'try',\n",
       " 'while',\n",
       " 'with',\n",
       " 'yield']"
      ]
     },
     "execution_count": 31,
     "metadata": {},
     "output_type": "execute_result"
    }
   ],
   "source": [
    "import keyword\n",
    "keyword.kwlist"
   ]
  },
  {
   "cell_type": "code",
   "execution_count": 32,
   "id": "b988392f-3d47-4113-86ec-ee622df07b07",
   "metadata": {},
   "outputs": [
    {
     "data": {
      "text/plain": [
       "35"
      ]
     },
     "execution_count": 32,
     "metadata": {},
     "output_type": "execute_result"
    }
   ],
   "source": [
    "len(keyword.kwlist)"
   ]
  },
  {
   "cell_type": "code",
   "execution_count": 34,
   "id": "61cc552e-adfe-4b5c-a17b-38d294ea01bb",
   "metadata": {},
   "outputs": [],
   "source": []
  },
  {
   "cell_type": "code",
   "execution_count": null,
   "id": "60c6dc92-87f9-4530-b901-3ab983e1ecdd",
   "metadata": {},
   "outputs": [],
   "source": []
  }
 ],
 "metadata": {
  "kernelspec": {
   "display_name": "Python [conda env:base] *",
   "language": "python",
   "name": "conda-base-py"
  },
  "language_info": {
   "codemirror_mode": {
    "name": "ipython",
    "version": 3
   },
   "file_extension": ".py",
   "mimetype": "text/x-python",
   "name": "python",
   "nbconvert_exporter": "python",
   "pygments_lexer": "ipython3",
   "version": "3.13.5"
  }
 },
 "nbformat": 4,
 "nbformat_minor": 5
}
