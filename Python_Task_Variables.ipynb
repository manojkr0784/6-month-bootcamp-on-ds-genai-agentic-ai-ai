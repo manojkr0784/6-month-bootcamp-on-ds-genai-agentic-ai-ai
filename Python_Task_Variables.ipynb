{
 "cells": [
  {
   "cell_type": "markdown",
   "id": "c0851dc6-705f-4791-8b6b-c4b1ad954702",
   "metadata": {},
   "source": [
    "# 28 July Python Task- Variables"
   ]
  },
  {
   "cell_type": "code",
   "execution_count": 2,
   "id": "461ab130-e3d5-473b-a4d5-34c78dd285a2",
   "metadata": {},
   "outputs": [
    {
     "data": {
      "text/plain": [
       "'MANOJ'"
      ]
     },
     "execution_count": 2,
     "metadata": {},
     "output_type": "execute_result"
    }
   ],
   "source": [
    "first_name='MANOJ'\n",
    "first_name"
   ]
  },
  {
   "cell_type": "code",
   "execution_count": 5,
   "id": "31efb465-bc85-4ccb-811e-e6746fb05a7e",
   "metadata": {},
   "outputs": [
    {
     "data": {
      "text/plain": [
       "'KUMAR'"
      ]
     },
     "execution_count": 5,
     "metadata": {},
     "output_type": "execute_result"
    }
   ],
   "source": [
    "last_name='KUMAR'\n",
    "last_name"
   ]
  },
  {
   "cell_type": "code",
   "execution_count": 7,
   "id": "e6c07c8d-f210-4c74-9502-5f58672ff32b",
   "metadata": {},
   "outputs": [
    {
     "data": {
      "text/plain": [
       "'INDIA'"
      ]
     },
     "execution_count": 7,
     "metadata": {},
     "output_type": "execute_result"
    }
   ],
   "source": [
    "country='INDIA'\n",
    "country"
   ]
  },
  {
   "cell_type": "code",
   "execution_count": 10,
   "id": "3c046bb4-e862-4cf1-a130-102c7ba321cf",
   "metadata": {},
   "outputs": [
    {
     "data": {
      "text/plain": [
       "'LUCKNOW'"
      ]
     },
     "execution_count": 10,
     "metadata": {},
     "output_type": "execute_result"
    }
   ],
   "source": [
    "city='LUCKNOW'\n",
    "city"
   ]
  },
  {
   "cell_type": "code",
   "execution_count": 11,
   "id": "b2defcdc-19e5-4f03-a029-e9f654238721",
   "metadata": {},
   "outputs": [
    {
     "data": {
      "text/plain": [
       "4563"
      ]
     },
     "execution_count": 11,
     "metadata": {},
     "output_type": "execute_result"
    }
   ],
   "source": [
    "age=4563\n",
    "age"
   ]
  },
  {
   "cell_type": "code",
   "execution_count": 12,
   "id": "c3b1e3cc-1cc8-4c3f-8b9d-d0588ee8ccd3",
   "metadata": {},
   "outputs": [
    {
     "data": {
      "text/plain": [
       "False"
      ]
     },
     "execution_count": 12,
     "metadata": {},
     "output_type": "execute_result"
    }
   ],
   "source": [
    "is_married=False\n",
    "is_married"
   ]
  },
  {
   "cell_type": "code",
   "execution_count": 16,
   "id": "0ef92282-2613-4385-adda-9d1803c8f47d",
   "metadata": {},
   "outputs": [
    {
     "data": {
      "text/plain": [
       "['HTML', 'CSS', 'JS', 'PYTHON']"
      ]
     },
     "execution_count": 16,
     "metadata": {},
     "output_type": "execute_result"
    }
   ],
   "source": [
    "skills=['HTML', 'CSS', 'JS', 'PYTHON']\n",
    "skills"
   ]
  },
  {
   "cell_type": "code",
   "execution_count": 22,
   "id": "a84a46be-fc14-486b-b6e4-84f3df738591",
   "metadata": {},
   "outputs": [
    {
     "data": {
      "text/plain": [
       "{'firstname': 'Vijay',\n",
       " 'lastname': 'Singh',\n",
       " 'country': 'India',\n",
       " 'city': 'Banglore'}"
      ]
     },
     "execution_count": 22,
     "metadata": {},
     "output_type": "execute_result"
    }
   ],
   "source": [
    "person_info={\n",
    "    'firstname':'Vijay',\n",
    "    'lastname' :'Singh',\n",
    "    'country' : 'India',\n",
    "    'city' :'Banglore'\n",
    "}\n",
    "person_info"
   ]
  },
  {
   "cell_type": "code",
   "execution_count": null,
   "id": "a60ae5fc-09c3-4ec2-b9d1-2bb20e2f169d",
   "metadata": {},
   "outputs": [],
   "source": []
  }
 ],
 "metadata": {
  "kernelspec": {
   "display_name": "Python [conda env:base] *",
   "language": "python",
   "name": "conda-base-py"
  },
  "language_info": {
   "codemirror_mode": {
    "name": "ipython",
    "version": 3
   },
   "file_extension": ".py",
   "mimetype": "text/x-python",
   "name": "python",
   "nbconvert_exporter": "python",
   "pygments_lexer": "ipython3",
   "version": "3.13.5"
  }
 },
 "nbformat": 4,
 "nbformat_minor": 5
}
